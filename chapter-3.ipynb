{
 "cells": [
  {
   "cell_type": "markdown",
   "metadata": {},
   "source": [
    "# Dictionaries and sets\n",
    "\n",
    "Hash tables are the engines behind Python’s high performance dicts."
   ]
  },
  {
   "cell_type": "markdown",
   "metadata": {},
   "source": [
    "\"An object is hashable if it has a hash value which never changes during its lifetime (it needs a `__hash__()` method), and can be compared to other objects (it needs an `__eq__()` method). Hashable objects which compare equal must have the same hash value.\"\""
   ]
  },
  {
   "cell_type": "markdown",
   "metadata": {},
   "source": [
    "**“All of Python’s immutable built-in objects are hashable, but not all hashable objects are immutable”**"
   ]
  },
  {
   "cell_type": "code",
   "execution_count": 1,
   "metadata": {},
   "outputs": [
    {
     "data": {
      "text/plain": [
       "5122140301632635949"
      ]
     },
     "execution_count": 1,
     "metadata": {},
     "output_type": "execute_result"
    }
   ],
   "source": [
    "my_name = \"Carla\"\n",
    "hash(my_name)"
   ]
  },
  {
   "cell_type": "code",
   "execution_count": 4,
   "metadata": {},
   "outputs": [
    {
     "ename": "TypeError",
     "evalue": "unhashable type: 'list'",
     "output_type": "error",
     "traceback": [
      "\u001b[0;31m---------------------------------------------------------------------------\u001b[0m",
      "\u001b[0;31mTypeError\u001b[0m                                 Traceback (most recent call last)",
      "\u001b[0;32m<ipython-input-4-43356c1a2568>\u001b[0m in \u001b[0;36m<module>\u001b[0;34m\u001b[0m\n\u001b[1;32m      1\u001b[0m \u001b[0ml\u001b[0m \u001b[0;34m=\u001b[0m \u001b[0;34m[\u001b[0m\u001b[0;36m1\u001b[0m\u001b[0;34m,\u001b[0m \u001b[0;36m2\u001b[0m\u001b[0;34m,\u001b[0m \u001b[0;36m3\u001b[0m\u001b[0;34m]\u001b[0m\u001b[0;34m\u001b[0m\u001b[0;34m\u001b[0m\u001b[0m\n\u001b[0;32m----> 2\u001b[0;31m \u001b[0mhash\u001b[0m\u001b[0;34m(\u001b[0m\u001b[0ml\u001b[0m\u001b[0;34m)\u001b[0m\u001b[0;34m\u001b[0m\u001b[0;34m\u001b[0m\u001b[0m\n\u001b[0m",
      "\u001b[0;31mTypeError\u001b[0m: unhashable type: 'list'"
     ]
    }
   ],
   "source": [
    "l = [1, 2, 3]\n",
    "hash(l)"
   ]
  },
  {
   "cell_type": "markdown",
   "metadata": {},
   "source": [
    "## Different ways to create a dictionary"
   ]
  },
  {
   "cell_type": "code",
   "execution_count": 2,
   "metadata": {},
   "outputs": [],
   "source": [
    "a = dict(one=1, two=2, three=3)\n",
    "\n",
    "b = {'one': 1, 'two': 2, 'three': 3}\n",
    "\n",
    "c = dict(zip(['one', 'two', 'three'], [1, 2, 3]))  \n",
    "\n",
    "d = dict([('two', 2), ('one', 1), ('three', 3)])  \n",
    "\n",
    "e = dict({'three': 3, 'one': 1, 'two': 2}) \n",
    "assert a == b == c == d == e"
   ]
  },
  {
   "cell_type": "code",
   "execution_count": 3,
   "metadata": {},
   "outputs": [
    {
     "data": {
      "text/plain": [
       "{'a': 1, 'b': 2, 'c': 3}"
      ]
     },
     "execution_count": 3,
     "metadata": {},
     "output_type": "execute_result"
    }
   ],
   "source": [
    "### zip to generate dictionaries\n",
    "keys = ['a', 'b', 'c']\n",
    "values = [1, 2, 3]\n",
    "d3 = dict(zip(keys, values))\n",
    "d3"
   ]
  },
  {
   "cell_type": "markdown",
   "metadata": {},
   "source": [
    "## dict comprehensions"
   ]
  },
  {
   "cell_type": "code",
   "execution_count": 4,
   "metadata": {},
   "outputs": [],
   "source": [
    "DIAL_CODES = [\n",
    "\t(86, 'China'),\n",
    "\t(91, 'India'),\n",
    "\t(1, 'United States'),\n",
    "\t(62, 'Indonesia'),\n",
    "\t(55, 'Brazil'),\n",
    "\t(92, 'Pakistan'),\n",
    "\t(880, 'Bangladesh'),\n",
    "\t(234, 'Nigeria'),\n",
    "\t(7, 'Russia'),\n",
    "\t(81, 'Japan'),\n",
    "]"
   ]
  },
  {
   "cell_type": "code",
   "execution_count": 5,
   "metadata": {},
   "outputs": [],
   "source": [
    "country_code = {country: code for code, country in DIAL_CODES}"
   ]
  },
  {
   "cell_type": "code",
   "execution_count": 6,
   "metadata": {},
   "outputs": [
    {
     "data": {
      "text/plain": [
       "{'China': 86,\n",
       " 'India': 91,\n",
       " 'United States': 1,\n",
       " 'Indonesia': 62,\n",
       " 'Brazil': 55,\n",
       " 'Pakistan': 92,\n",
       " 'Bangladesh': 880,\n",
       " 'Nigeria': 234,\n",
       " 'Russia': 7,\n",
       " 'Japan': 81}"
      ]
     },
     "execution_count": 6,
     "metadata": {},
     "output_type": "execute_result"
    }
   ],
   "source": [
    "country_code"
   ]
  },
  {
   "cell_type": "code",
   "execution_count": 7,
   "metadata": {},
   "outputs": [
    {
     "data": {
      "text/plain": [
       "{1: 'UNITED STATES', 62: 'INDONESIA', 55: 'BRAZIL', 7: 'RUSSIA'}"
      ]
     },
     "execution_count": 7,
     "metadata": {},
     "output_type": "execute_result"
    }
   ],
   "source": [
    "{code: country.upper() for country, code in country_code.items() if code < 66}   "
   ]
  },
  {
   "cell_type": "code",
   "execution_count": null,
   "metadata": {},
   "outputs": [],
   "source": []
  },
  {
   "cell_type": "markdown",
   "metadata": {},
   "source": [
    "# Handling missing keys"
   ]
  },
  {
   "cell_type": "code",
   "execution_count": 8,
   "metadata": {},
   "outputs": [],
   "source": [
    "doggo = {'name': 'Lassie','breed': \"border collie\"}"
   ]
  },
  {
   "cell_type": "code",
   "execution_count": 9,
   "metadata": {},
   "outputs": [
    {
     "ename": "AttributeError",
     "evalue": "'dict' object has no attribute 'nome'",
     "output_type": "error",
     "traceback": [
      "\u001b[0;31m---------------------------------------------------------------------------\u001b[0m",
      "\u001b[0;31mAttributeError\u001b[0m                            Traceback (most recent call last)",
      "\u001b[0;32m<ipython-input-9-db183a4269d5>\u001b[0m in \u001b[0;36m<module>\u001b[0;34m\u001b[0m\n\u001b[0;32m----> 1\u001b[0;31m \u001b[0mdoggo\u001b[0m\u001b[0;34m.\u001b[0m\u001b[0mnome\u001b[0m\u001b[0;34m\u001b[0m\u001b[0;34m\u001b[0m\u001b[0m\n\u001b[0m",
      "\u001b[0;31mAttributeError\u001b[0m: 'dict' object has no attribute 'nome'"
     ]
    }
   ],
   "source": [
    "doggo.nome"
   ]
  },
  {
   "cell_type": "code",
   "execution_count": 32,
   "metadata": {},
   "outputs": [
    {
     "data": {
      "text/plain": [
       "'banana'"
      ]
     },
     "execution_count": 32,
     "metadata": {},
     "output_type": "execute_result"
    }
   ],
   "source": [
    "doggo.get('nome', 'banana')"
   ]
  },
  {
   "cell_type": "markdown",
   "metadata": {},
   "source": [
    "## With `get`"
   ]
  },
  {
   "cell_type": "code",
   "execution_count": 31,
   "metadata": {},
   "outputs": [
    {
     "name": "stdout",
     "output_type": "stream",
     "text": [
      "a [(17, 48), (18, 53)]\n",
      "Although [(9, 1), (14, 1), (16, 1)]\n",
      "ambiguity [(12, 16)]\n",
      "and [(13, 23)]\n",
      "are [(19, 12)]\n",
      "aren [(8, 15)]\n",
      "at [(14, 38)]\n",
      "bad [(17, 50)]\n",
      "be [(13, 14), (14, 27), (18, 50)]\n",
      "beats [(9, 23)]\n",
      "Beautiful [(1, 1)]\n",
      "better [(1, 14), (2, 13), (3, 11), (4, 12), (5, 9), (6, 11), (15, 8), (16, 25)]\n",
      "break [(8, 40)]\n",
      "cases [(8, 9)]\n",
      "complex [(3, 23)]\n",
      "Complex [(4, 1)]\n",
      "complicated [(4, 24)]\n",
      "counts [(7, 13)]\n",
      "dense [(6, 23)]\n",
      "do [(13, 64), (19, 48)]\n",
      "Dutch [(14, 61)]\n",
      "easy [(18, 26)]\n",
      "enough [(8, 30)]\n",
      "Errors [(10, 1)]\n",
      "explain [(17, 34), (18, 34)]\n",
      "Explicit [(2, 1)]\n",
      "explicitly [(11, 8)]\n",
      "face [(12, 8)]\n",
      "first [(14, 41)]\n",
      "Flat [(5, 1)]\n",
      "good [(18, 55)]\n",
      "great [(19, 28)]\n",
      "guess [(12, 52)]\n",
      "hard [(17, 26)]\n",
      "honking [(19, 20)]\n",
      "idea [(17, 54), (18, 60), (19, 34)]\n",
      "If [(17, 1), (18, 1)]\n",
      "implementation [(17, 8), (18, 8)]\n",
      "implicit [(2, 25)]\n",
      "In [(12, 1)]\n",
      "is [(1, 11), (2, 10), (3, 8), (4, 9), (5, 6), (6, 8), (15, 5), (16, 16), (17, 23), (18, 23)]\n",
      "it [(13, 67), (17, 43), (18, 43)]\n",
      "let [(19, 42)]\n",
      "may [(14, 19), (18, 46)]\n",
      "more [(19, 51)]\n",
      "Namespaces [(19, 1)]\n",
      "nested [(5, 21)]\n",
      "never [(10, 15), (15, 20), (16, 10)]\n",
      "not [(14, 23)]\n",
      "Now [(15, 1)]\n",
      "now [(16, 45)]\n",
      "obvious [(13, 49), (14, 30)]\n",
      "of [(12, 13), (19, 56)]\n",
      "often [(16, 19)]\n",
      "one [(13, 17), (13, 43), (19, 16)]\n",
      "only [(13, 38)]\n",
      "pass [(10, 21)]\n",
      "practicality [(9, 10)]\n",
      "preferably [(13, 27)]\n",
      "purity [(9, 29)]\n",
      "re [(14, 58)]\n",
      "Readability [(7, 1)]\n",
      "refuse [(12, 27)]\n",
      "right [(16, 38)]\n",
      "rules [(8, 50)]\n",
      "s [(17, 46), (19, 46)]\n",
      "should [(10, 8), (13, 7)]\n",
      "silenced [(11, 19)]\n",
      "silently [(10, 26)]\n",
      "Simple [(3, 1)]\n",
      "Sparse [(6, 1)]\n",
      "Special [(8, 1)]\n",
      "special [(8, 22)]\n",
      "t [(8, 20)]\n",
      "temptation [(12, 38)]\n",
      "than [(1, 21), (2, 20), (3, 18), (4, 19), (5, 16), (6, 18), (15, 15), (16, 32)]\n",
      "that [(14, 10)]\n",
      "the [(8, 46), (12, 4), (12, 34), (17, 4), (18, 4)]\n",
      "There [(13, 1)]\n",
      "those [(19, 59)]\n",
      "to [(8, 37), (12, 49), (13, 61), (17, 31), (18, 31)]\n",
      "ugly [(1, 26)]\n",
      "Unless [(11, 1)]\n",
      "unless [(14, 47)]\n",
      "way [(13, 57), (14, 15)]\n",
      "you [(14, 54)]\n"
     ]
    }
   ],
   "source": [
    "\"\"\"Build an index mapping word -> list of occurrences\"\"\"\n",
    "\n",
    "import sys\n",
    "import re\n",
    "\n",
    "WORD_RE = re.compile('\\w+')\n",
    "FILE_NAME = 'zen.txt'\n",
    "\n",
    "index = {}\n",
    "\n",
    "with open(FILE_NAME, encoding='utf-8') as fp:\n",
    "    for line_no, line in enumerate(fp, 1):\n",
    "        for match in WORD_RE.finditer(line):\n",
    "            word = match.group()\n",
    "            column_no = match.start()+1\n",
    "            location = (line_no, column_no)\n",
    "            # this is ugly; coded like this to make a point\n",
    "            occurrences = index.get(word, [])\n",
    "            occurrences.append(location)\n",
    "            index[word] = occurrences\n",
    "        \n",
    "# print in alphabetical order\n",
    "for word in sorted(index, key=str.upper):\n",
    "    print(word, index[word])"
   ]
  },
  {
   "cell_type": "markdown",
   "metadata": {},
   "source": [
    "# With `setdefault`"
   ]
  },
  {
   "cell_type": "code",
   "execution_count": 33,
   "metadata": {},
   "outputs": [
    {
     "name": "stdout",
     "output_type": "stream",
     "text": [
      "a [(17, 48), (18, 53)]\n",
      "Although [(9, 1), (14, 1), (16, 1)]\n",
      "ambiguity [(12, 16)]\n",
      "and [(13, 23)]\n",
      "are [(19, 12)]\n",
      "aren [(8, 15)]\n",
      "at [(14, 38)]\n",
      "bad [(17, 50)]\n",
      "be [(13, 14), (14, 27), (18, 50)]\n",
      "beats [(9, 23)]\n",
      "Beautiful [(1, 1)]\n",
      "better [(1, 14), (2, 13), (3, 11), (4, 12), (5, 9), (6, 11), (15, 8), (16, 25)]\n",
      "break [(8, 40)]\n",
      "cases [(8, 9)]\n",
      "complex [(3, 23)]\n",
      "Complex [(4, 1)]\n",
      "complicated [(4, 24)]\n",
      "counts [(7, 13)]\n",
      "dense [(6, 23)]\n",
      "do [(13, 64), (19, 48)]\n",
      "Dutch [(14, 61)]\n",
      "easy [(18, 26)]\n",
      "enough [(8, 30)]\n",
      "Errors [(10, 1)]\n",
      "explain [(17, 34), (18, 34)]\n",
      "Explicit [(2, 1)]\n",
      "explicitly [(11, 8)]\n",
      "face [(12, 8)]\n",
      "first [(14, 41)]\n",
      "Flat [(5, 1)]\n",
      "good [(18, 55)]\n",
      "great [(19, 28)]\n",
      "guess [(12, 52)]\n",
      "hard [(17, 26)]\n",
      "honking [(19, 20)]\n",
      "idea [(17, 54), (18, 60), (19, 34)]\n",
      "If [(17, 1), (18, 1)]\n",
      "implementation [(17, 8), (18, 8)]\n",
      "implicit [(2, 25)]\n",
      "In [(12, 1)]\n",
      "is [(1, 11), (2, 10), (3, 8), (4, 9), (5, 6), (6, 8), (15, 5), (16, 16), (17, 23), (18, 23)]\n",
      "it [(13, 67), (17, 43), (18, 43)]\n",
      "let [(19, 42)]\n",
      "may [(14, 19), (18, 46)]\n",
      "more [(19, 51)]\n",
      "Namespaces [(19, 1)]\n",
      "nested [(5, 21)]\n",
      "never [(10, 15), (15, 20), (16, 10)]\n",
      "not [(14, 23)]\n",
      "Now [(15, 1)]\n",
      "now [(16, 45)]\n",
      "obvious [(13, 49), (14, 30)]\n",
      "of [(12, 13), (19, 56)]\n",
      "often [(16, 19)]\n",
      "one [(13, 17), (13, 43), (19, 16)]\n",
      "only [(13, 38)]\n",
      "pass [(10, 21)]\n",
      "practicality [(9, 10)]\n",
      "preferably [(13, 27)]\n",
      "purity [(9, 29)]\n",
      "re [(14, 58)]\n",
      "Readability [(7, 1)]\n",
      "refuse [(12, 27)]\n",
      "right [(16, 38)]\n",
      "rules [(8, 50)]\n",
      "s [(17, 46), (19, 46)]\n",
      "should [(10, 8), (13, 7)]\n",
      "silenced [(11, 19)]\n",
      "silently [(10, 26)]\n",
      "Simple [(3, 1)]\n",
      "Sparse [(6, 1)]\n",
      "Special [(8, 1)]\n",
      "special [(8, 22)]\n",
      "t [(8, 20)]\n",
      "temptation [(12, 38)]\n",
      "than [(1, 21), (2, 20), (3, 18), (4, 19), (5, 16), (6, 18), (15, 15), (16, 32)]\n",
      "that [(14, 10)]\n",
      "the [(8, 46), (12, 4), (12, 34), (17, 4), (18, 4)]\n",
      "There [(13, 1)]\n",
      "those [(19, 59)]\n",
      "to [(8, 37), (12, 49), (13, 61), (17, 31), (18, 31)]\n",
      "ugly [(1, 26)]\n",
      "Unless [(11, 1)]\n",
      "unless [(14, 47)]\n",
      "way [(13, 57), (14, 15)]\n",
      "you [(14, 54)]\n"
     ]
    }
   ],
   "source": [
    "\"\"\"Build an index mapping word -> list of occurrences\"\"\"\n",
    "\n",
    "import sys\n",
    "import re\n",
    "\n",
    "WORD_RE = re.compile('\\w+')\n",
    "FILE_NAME = 'zen.txt'\n",
    "\n",
    "index = {}\n",
    "\n",
    "with open(FILE_NAME, encoding='utf-8') as fp:\n",
    "    for line_no, line in enumerate(fp, 1):\n",
    "        for match in WORD_RE.finditer(line):\n",
    "            word = match.group()\n",
    "            column_no = match.start()+1\n",
    "            location = (line_no, column_no)\n",
    "            index.setdefault(word, []).append(location)\n",
    "            \n",
    "# print in alphabetical order\n",
    "for word in sorted(index, key=str.upper):\n",
    "    print(word, index[word])"
   ]
  }
 ],
 "metadata": {
  "kernelspec": {
   "display_name": "Python 2",
   "language": "python",
   "name": "python2"
  },
  "language_info": {
   "codemirror_mode": {
    "name": "ipython",
    "version": 3
   },
   "file_extension": ".py",
   "mimetype": "text/x-python",
   "name": "python",
   "nbconvert_exporter": "python",
   "pygments_lexer": "ipython3",
   "version": "3.7.5"
  }
 },
 "nbformat": 4,
 "nbformat_minor": 2
}
